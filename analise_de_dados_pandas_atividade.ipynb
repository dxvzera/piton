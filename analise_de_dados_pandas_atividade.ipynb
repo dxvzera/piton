{
  "cells": [
    {
      "cell_type": "markdown",
      "metadata": {
        "id": "6AsGdxknfkkw"
      },
      "source": [
        "# Analise os dados do csv\n",
        "\n",
        "NO csv em questão vocês terão uma sala de aula, com notas como no sistema do bento quirino.\n",
        "\n",
        "Você deve:\n",
        "\n",
        "1. Retirar colunas que não serão utilizadas;\n",
        "2. Normalizar os dados e inserir/substituir se necessário\n",
        "3. Trazer as 5 maiores notas das salas\n",
        "4. Trazer as 5 menores notas das salas\n",
        "5. Trazer a média da sala\n",
        "6. Mostrar em um gráfico de barra vertical quantidade temos de cada nota.\n",
        "7. Mostrar um boxplot de cada avaliação (MA, AM, AB, MB)\n",
        "8. Descrever em um relatório textual a situação dos 5 alunos com menor nota com base na análise dos dados (por que o desempenho deles está assim, e o que provavelmente pode ter acontecido/como melhorar)\n",
        "\n",
        "Gere o inpynb, e salve para a próxima aula"
      ]
    },
    {
      "cell_type": "code",
      "execution_count": null,
      "metadata": {
        "id": "Lek-TzcefjeU"
      },
      "outputs": [
        {
          "ename": "",
          "evalue": "",
          "output_type": "error",
          "traceback": [
            "\u001b[1;31mRunning cells with 'c:\\Python312\\python.exe' requires the ipykernel package.\n",
            "\u001b[1;31mRun the following command to install 'ipykernel' into the Python environment. \n",
            "\u001b[1;31mCommand: 'c:/Python312/python.exe -m pip install ipykernel -U --user --force-reinstall'"
          ]
        }
      ],
      "source": [
        "# 1.\n",
        "\n",
        "import pandas as pd\n",
        "\n",
        "aluno = pd.read_csv('dataset-alunos.csv')\n",
        "print(alunos.columns)\n",
        "\n",
        "colunas_utilizadas = ['link atitudinal 1', 'link atitudinal 2', 'link mensal', 'link bimestral']\n",
        "\n",
        "alunos = alunos[colunas_utilizadas]\n",
        "\n",
        "print(f\"\\nDataset após retirar as colunas não utilizadas: {alunos}\")"
      ]
    },
    {
      "cell_type": "code",
      "execution_count": null,
      "metadata": {},
      "outputs": [],
      "source": [
        "# 2. \n",
        "\n",
        "import pandas as pd\n",
        "\n"
      ]
    }
  ],
  "metadata": {
    "colab": {
      "provenance": []
    },
    "kernelspec": {
      "display_name": "Python 3",
      "name": "python3"
    },
    "language_info": {
      "name": "python"
    }
  },
  "nbformat": 4,
  "nbformat_minor": 0
}
